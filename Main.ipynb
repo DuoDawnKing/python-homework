{
 "cells": [
  {
   "cell_type": "code",
   "execution_count": 104,
   "id": "df5504f5-052c-43fb-8571-173057fb0cd4",
   "metadata": {},
   "outputs": [
    {
     "name": "stdout",
     "output_type": "stream",
     "text": [
      "Financial Analysis\n",
      "-----------------------------\n",
      "Total Months 86\n",
      "Total 38382578\n",
      "Average Change: 446309.05\n",
      "Greatest Increase in Profits:Feb-2012 $1170593\n",
      "Greatest Decrease in Profits: Sep-2013 $-1196225\n"
     ]
    }
   ],
   "source": [
    "# Before pulling the data you need to import the path, \n",
    "import pandas as pd\n",
    "from pathlib import Path \n",
    "import csv\n",
    "\n",
    "# Generate a path that will be used to pull the budget_data file \n",
    "csvpath = Path('new_budget.csv')\n",
    "\n",
    "\n",
    "# We will be creating two list that will be used when to store the extracted information\n",
    "# the Data column will be placed in dae_group and Profit/Loss will be in p_1_group\n",
    "date_group = []\n",
    "p_l_group = []\n",
    "\n",
    "# We will be created 5 variables that will be used to for each amount of data\n",
    "count_date = 0\n",
    "total = 0\n",
    "avg_change = 0\n",
    "min_profit = 0\n",
    "max_profit = 0\n",
    "\n",
    "# pd is pandas file reading of the data to make it easier to extract the information \n",
    "data_report = pd.read_csv(csvpath)\n",
    "\n",
    "\n",
    "# with pd being used, we can extract each column into their own list\n",
    "\n",
    "# this Date column would be extracted to the date_group list\n",
    "date_group=data_report[\"Date\"].tolist()\n",
    "\n",
    "# The Profit/Losses column will be extracted to the p_1_group list \n",
    "p_l_group = data_report[\"Profit/Losses\"].tolist()\n",
    "\n",
    "\n",
    "\n",
    "# to count the number of dates in the Date column, we must do a for loop to go through \n",
    "# and count every group of months as 1 then add it over and over for each month\n",
    "for x in date_group:\n",
    "    count_date += 1\n",
    "\n",
    "\n",
    "# to find the total of all the profits and losses, we must loop through the p_1_group\n",
    "# there we can add up the total of all profits\n",
    "\n",
    "for profit in p_l_group:\n",
    "    total += profit\n",
    "\n",
    "# we will use and if statement in the same loop as the total to find the minimum and \n",
    "# maximum by loop each data if they adhear to the limiations in the if statement \n",
    "    if min_profit == 0:\n",
    "        min_profit = profit\n",
    "    elif profit > max_profit:\n",
    "        max_profit = profit\n",
    "    elif profit < min_profit:\n",
    "        min_profit = profit\n",
    "    \n",
    "\n",
    "# to find the average change we take the total and divide by the count_date\n",
    "avg_change = round(total/count_date, 2)\n",
    "\n",
    "\n",
    "# index is to determine the location of the elements of both the max and minimum to find \n",
    "# the month by putting the element location in the data_group \n",
    "\n",
    "max_index = p_l_group.index(max_profit)\n",
    "\n",
    "\n",
    "\n",
    "min_index = p_l_group.index(min_profit)\n",
    "\n",
    "\n",
    "date_max_index = date_group[25]\n",
    "\n",
    "date_min_index = date_group[44]\n",
    "\n",
    "\n",
    "\n",
    "\n",
    "# we do an f string and pull all the variable information we had discovered in our other \n",
    "# statements to ensure that user is able to see the information that we presented\n",
    "\n",
    "\n",
    "print(f\"Financial Analysis\")\n",
    "print(f\"-----------------------------\")\n",
    "print(f'Total Months {count_date}')\n",
    "print(f'Total {total}') \n",
    "print(f'Average Change: {avg_change}')\n",
    "print(f'Greatest Increase in Profits:{date_max_index} ${max_profit}')\n",
    "print(f'Greatest Decrease in Profits: {date_min_index} ${min_profit}')\n",
    "\n"
   ]
  },
  {
   "cell_type": "code",
   "execution_count": null,
   "id": "ff08ccfa-cbf0-45c2-9fe7-5790ed5db7fc",
   "metadata": {},
   "outputs": [],
   "source": [
    "\n",
    "\n"
   ]
  },
  {
   "cell_type": "code",
   "execution_count": null,
   "id": "296b61dc-24ca-431b-b68c-8204c18d313c",
   "metadata": {},
   "outputs": [],
   "source": [
    "\n"
   ]
  },
  {
   "cell_type": "code",
   "execution_count": null,
   "id": "883d74b2-d19b-4edc-85f7-f63e28aa65cb",
   "metadata": {},
   "outputs": [],
   "source": []
  },
  {
   "cell_type": "code",
   "execution_count": null,
   "id": "f35823d3-9900-4d97-8a62-f94b990bc62c",
   "metadata": {},
   "outputs": [],
   "source": [
    "\n",
    "     "
   ]
  },
  {
   "cell_type": "code",
   "execution_count": null,
   "id": "bef93ef4-0886-4e7f-ab8b-8a2c1c7f3750",
   "metadata": {},
   "outputs": [],
   "source": [
    "\n"
   ]
  },
  {
   "cell_type": "code",
   "execution_count": null,
   "id": "707e241c-22ef-44ee-a390-219b390ffbde",
   "metadata": {},
   "outputs": [],
   "source": [
    "\n"
   ]
  },
  {
   "cell_type": "code",
   "execution_count": null,
   "id": "2e0b13f6-afb5-4e83-a9d4-466686a63266",
   "metadata": {},
   "outputs": [],
   "source": []
  },
  {
   "cell_type": "code",
   "execution_count": null,
   "id": "45e6bb94-124e-4a6b-8b6b-3d550044d087",
   "metadata": {},
   "outputs": [],
   "source": []
  },
  {
   "cell_type": "code",
   "execution_count": null,
   "id": "97d7ec0e-d5c2-4544-8253-3f93ab2d6d9f",
   "metadata": {},
   "outputs": [],
   "source": []
  },
  {
   "cell_type": "code",
   "execution_count": null,
   "id": "9bde936e-a159-433a-89e7-b0871068b177",
   "metadata": {},
   "outputs": [],
   "source": []
  }
 ],
 "metadata": {
  "kernelspec": {
   "display_name": "Python 3 (ipykernel)",
   "language": "python",
   "name": "python3"
  },
  "language_info": {
   "codemirror_mode": {
    "name": "ipython",
    "version": 3
   },
   "file_extension": ".py",
   "mimetype": "text/x-python",
   "name": "python",
   "nbconvert_exporter": "python",
   "pygments_lexer": "ipython3",
   "version": "3.9.7"
  }
 },
 "nbformat": 4,
 "nbformat_minor": 5
}
